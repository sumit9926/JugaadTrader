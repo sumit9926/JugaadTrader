{
 "cells": [
  {
   "cell_type": "code",
   "execution_count": 1,
   "metadata": {},
   "outputs": [],
   "source": [
    "#install various libraries\n",
    "#pip install kiteconnect\n",
    "#pip install jugaad-trader"
   ]
  },
  {
   "cell_type": "code",
   "execution_count": 2,
   "metadata": {},
   "outputs": [],
   "source": [
    "#https://marketsetup.in/documentation/jugaad-trader/cli/"
   ]
  },
  {
   "cell_type": "code",
   "execution_count": 3,
   "metadata": {},
   "outputs": [],
   "source": [
    "#error: if jtrader is not found, try reinstalling the jugaad-trader pip"
   ]
  },
  {
   "cell_type": "code",
   "execution_count": 6,
   "metadata": {},
   "outputs": [],
   "source": [
    "#run this in command in terminal\n",
    "#jtrader zerodha startsession"
   ]
  },
  {
   "cell_type": "code",
   "execution_count": 7,
   "metadata": {},
   "outputs": [],
   "source": [
    "import datetime\n",
    "import pandas as pd\n",
    "import logging\n",
    "from kiteconnect import KiteConnect\n",
    "logging.basicConfig(level=logging.DEBUG)\n",
    "from jugaad_trader import Zerodha"
   ]
  },
  {
   "cell_type": "code",
   "execution_count": 8,
   "metadata": {},
   "outputs": [
    {
     "name": "stderr",
     "output_type": "stream",
     "text": [
      "DEBUG:urllib3.connectionpool:Starting new HTTPS connection (1): kite.zerodha.com:443\n",
      "DEBUG:urllib3.connectionpool:https://kite.zerodha.com:443 \"GET /oms/user/profile HTTP/1.1\" 200 None\n"
     ]
    }
   ],
   "source": [
    "kite = Zerodha()\n",
    "# Set access token loads the stored session.\n",
    "# Name chosen to keep it compatible with kiteconnect.\n",
    "kite.set_access_token() # loads the session from config folder\n",
    "profile = kite.profile()"
   ]
  },
  {
   "cell_type": "code",
   "execution_count": 5,
   "metadata": {},
   "outputs": [],
   "source": [
    "#now run this command in terminal\n",
    "#jtrader zerodha savecreds"
   ]
  },
  {
   "cell_type": "code",
   "execution_count": 6,
   "metadata": {},
   "outputs": [],
   "source": [
    "#the above command will save the credentials in a app config folder in file named .zcred"
   ]
  },
  {
   "cell_type": "code",
   "execution_count": 7,
   "metadata": {
    "scrolled": true
   },
   "outputs": [
    {
     "name": "stderr",
     "output_type": "stream",
     "text": [
      "DEBUG:urllib3.connectionpool:Starting new HTTPS connection (1): kite.zerodha.com:443\n",
      "DEBUG:urllib3.connectionpool:https://kite.zerodha.com:443 \"GET / HTTP/1.1\" 200 None\n",
      "DEBUG:urllib3.connectionpool:https://kite.zerodha.com:443 \"POST /api/login HTTP/1.1\" 200 None\n",
      "DEBUG:urllib3.connectionpool:https://kite.zerodha.com:443 \"POST /api/twofa HTTP/1.1\" 200 42\n"
     ]
    },
    {
     "data": {
      "text/plain": [
       "{'status': 'success', 'data': {'profile': {}}}"
      ]
     },
     "execution_count": 7,
     "metadata": {},
     "output_type": "execute_result"
    }
   ],
   "source": [
    "kite = Zerodha()\n",
    "kite.load_creds()\n",
    "kite.login()\n",
    "#get profile\n",
    "#print(kite.profile())"
   ]
  },
  {
   "cell_type": "code",
   "execution_count": 8,
   "metadata": {},
   "outputs": [
    {
     "name": "stderr",
     "output_type": "stream",
     "text": [
      "DEBUG:urllib3.connectionpool:https://kite.zerodha.com:443 \"GET /oms/user/margins HTTP/1.1\" 200 None\n"
     ]
    }
   ],
   "source": [
    "# Get margin\n",
    "margins = kite.margins()\n",
    "#print(margins)"
   ]
  },
  {
   "cell_type": "code",
   "execution_count": 9,
   "metadata": {},
   "outputs": [
    {
     "name": "stderr",
     "output_type": "stream",
     "text": [
      "DEBUG:urllib3.connectionpool:https://kite.zerodha.com:443 \"GET /oms/portfolio/holdings HTTP/1.1\" 200 None\n"
     ]
    }
   ],
   "source": [
    "# Get holdings\n",
    "holdings = kite.holdings()\n",
    "#print(holdings)"
   ]
  },
  {
   "cell_type": "code",
   "execution_count": 10,
   "metadata": {},
   "outputs": [
    {
     "name": "stderr",
     "output_type": "stream",
     "text": [
      "DEBUG:urllib3.connectionpool:https://kite.zerodha.com:443 \"GET /oms/portfolio/positions HTTP/1.1\" 200 None\n"
     ]
    }
   ],
   "source": [
    "# Get today's positions\n",
    "positions = kite.positions()\n",
    "#print(positions)"
   ]
  },
  {
   "cell_type": "code",
   "execution_count": 11,
   "metadata": {
    "scrolled": true
   },
   "outputs": [
    {
     "name": "stderr",
     "output_type": "stream",
     "text": [
      "DEBUG:urllib3.connectionpool:https://kite.zerodha.com:443 \"GET /oms/orders HTTP/1.1\" 200 None\n"
     ]
    },
    {
     "name": "stdout",
     "output_type": "stream",
     "text": [
      "[{'placed_by': 'ZG4424', 'order_id': '200727101982614', 'exchange_order_id': None, 'parent_order_id': None, 'status': 'REJECTED', 'status_message': 'This exchange segment is not enabled for your account. Enable by visiting: zrd.sh/add-segment', 'status_message_raw': 'exchg not enabled for this acct', 'order_timestamp': datetime.datetime(2020, 7, 27, 20, 37, 12), 'exchange_update_timestamp': None, 'exchange_timestamp': None, 'variety': 'regular', 'exchange': 'MCX', 'tradingsymbol': 'SILVERMIC20AUGFUT', 'instrument_token': 55655943, 'order_type': 'LIMIT', 'transaction_type': 'BUY', 'validity': 'DAY', 'product': 'NRML', 'quantity': 1, 'disclosed_quantity': 0, 'price': 65256, 'trigger_price': 0, 'average_price': 0, 'filled_quantity': 0, 'pending_quantity': 0, 'cancelled_quantity': 0, 'market_protection': 0, 'meta': {}, 'tag': None, 'guid': '19Xbnsrxblifhjg'}]\n"
     ]
    }
   ],
   "source": [
    "# Get today's orders\n",
    "orders = kite.orders()\n",
    "print(orders)"
   ]
  },
  {
   "cell_type": "code",
   "execution_count": 7,
   "metadata": {},
   "outputs": [],
   "source": [
    "#https://kite.trade/docs/pykiteconnect/v3/#kiteconnect.KiteConnect.historical_data\n",
    "def historical_data(instrument_token, from_date, to_date, interval, continuous=False, oi=False):\n",
    "    \"\"\"\n",
    "    Retrieve historical data (candles) for an instrument.\n",
    "    Although the actual response JSON from the API does not have field\n",
    "    names such has 'open', 'high' etc., this function call structures\n",
    "    the data into an array of objects with field names. For example:\n",
    "    - `instrument_token` is the instrument identifier (retrieved from the instruments()) call.\n",
    "    - `from_date` is the From date (datetime object or string in format of yyyy-mm-dd HH:MM:SS.\n",
    "    - `to_date` is the To date (datetime object or string in format of yyyy-mm-dd HH:MM:SS).\n",
    "    - `interval` is the candle interval (minute, day, 5 minute etc.).\n",
    "    - `continuous` is a boolean flag to get continuous data for futures and options instruments.\n",
    "    - `oi` is a boolean flag to get open interest.\n",
    "    \"\"\"\n",
    "    date_string_format = \"%Y-%m-%d %H:%M:%S\"\n",
    "    from_date_string = from_date.strftime(date_string_format) if type(from_date) == datetime.datetime else from_date\n",
    "    to_date_string = to_date.strftime(date_string_format) if type(to_date) == datetime.datetime else to_date\n",
    "    data = _get(\"market.historical\", {\n",
    "        \"instrument_token\": instrument_token,\n",
    "        \"from\": from_date_string,\n",
    "        \"to\": to_date_string,\n",
    "        \"interval\": interval,\n",
    "        \"continuous\": 1 if continuous else 0,\n",
    "        \"oi\": 1 if oi else 0\n",
    "    })\n",
    "    return _format_historical(data, oi)"
   ]
  },
  {
   "cell_type": "code",
   "execution_count": 80,
   "metadata": {},
   "outputs": [],
   "source": [
    "instrument_token = 738561\n",
    "from_date = '2015-01-01 09:15:00'\n",
    "to_date = '2015-02-28 15:30:00'\n",
    "interval = 'minute'"
   ]
  },
  {
   "cell_type": "code",
   "execution_count": 81,
   "metadata": {},
   "outputs": [
    {
     "name": "stderr",
     "output_type": "stream",
     "text": [
      "DEBUG:urllib3.connectionpool:https://kite.zerodha.com:443 \"GET /oms/instruments/historical/738561/minute?instrument_token=738561&from=2015-01-01+09%3A15%3A00&to=2015-02-28+15%3A30%3A00&interval=minute&continuous=0&oi=0 HTTP/1.1\" 200 118847\n"
     ]
    }
   ],
   "source": [
    "get_data = kite.historical_data(instrument_token,from_date,to_date,interval,)"
   ]
  },
  {
   "cell_type": "code",
   "execution_count": 82,
   "metadata": {},
   "outputs": [],
   "source": [
    "data = pd.DataFrame(get_data)"
   ]
  },
  {
   "cell_type": "code",
   "execution_count": 83,
   "metadata": {
    "scrolled": false
   },
   "outputs": [
    {
     "data": {
      "text/html": [
       "<div>\n",
       "<style scoped>\n",
       "    .dataframe tbody tr th:only-of-type {\n",
       "        vertical-align: middle;\n",
       "    }\n",
       "\n",
       "    .dataframe tbody tr th {\n",
       "        vertical-align: top;\n",
       "    }\n",
       "\n",
       "    .dataframe thead th {\n",
       "        text-align: right;\n",
       "    }\n",
       "</style>\n",
       "<table border=\"1\" class=\"dataframe\">\n",
       "  <thead>\n",
       "    <tr style=\"text-align: right;\">\n",
       "      <th></th>\n",
       "      <th>date</th>\n",
       "      <th>open</th>\n",
       "      <th>high</th>\n",
       "      <th>low</th>\n",
       "      <th>close</th>\n",
       "      <th>volume</th>\n",
       "    </tr>\n",
       "  </thead>\n",
       "  <tbody>\n",
       "    <tr>\n",
       "      <th>0</th>\n",
       "      <td>2015-02-02 09:15:00+05:30</td>\n",
       "      <td>458.48</td>\n",
       "      <td>459.90</td>\n",
       "      <td>458.18</td>\n",
       "      <td>458.40</td>\n",
       "      <td>108278</td>\n",
       "    </tr>\n",
       "    <tr>\n",
       "      <th>1</th>\n",
       "      <td>2015-02-02 09:16:00+05:30</td>\n",
       "      <td>458.40</td>\n",
       "      <td>458.68</td>\n",
       "      <td>457.50</td>\n",
       "      <td>457.50</td>\n",
       "      <td>46142</td>\n",
       "    </tr>\n",
       "    <tr>\n",
       "      <th>2</th>\n",
       "      <td>2015-02-02 09:17:00+05:30</td>\n",
       "      <td>457.55</td>\n",
       "      <td>458.40</td>\n",
       "      <td>457.40</td>\n",
       "      <td>458.00</td>\n",
       "      <td>48890</td>\n",
       "    </tr>\n",
       "    <tr>\n",
       "      <th>3</th>\n",
       "      <td>2015-02-02 09:18:00+05:30</td>\n",
       "      <td>458.08</td>\n",
       "      <td>459.25</td>\n",
       "      <td>458.08</td>\n",
       "      <td>458.75</td>\n",
       "      <td>56594</td>\n",
       "    </tr>\n",
       "    <tr>\n",
       "      <th>4</th>\n",
       "      <td>2015-02-02 09:19:00+05:30</td>\n",
       "      <td>458.73</td>\n",
       "      <td>458.75</td>\n",
       "      <td>458.25</td>\n",
       "      <td>458.43</td>\n",
       "      <td>31682</td>\n",
       "    </tr>\n",
       "    <tr>\n",
       "      <th>...</th>\n",
       "      <td>...</td>\n",
       "      <td>...</td>\n",
       "      <td>...</td>\n",
       "      <td>...</td>\n",
       "      <td>...</td>\n",
       "      <td>...</td>\n",
       "    </tr>\n",
       "    <tr>\n",
       "      <th>7495</th>\n",
       "      <td>2015-02-28 15:25:00+05:30</td>\n",
       "      <td>433.40</td>\n",
       "      <td>433.40</td>\n",
       "      <td>432.78</td>\n",
       "      <td>433.00</td>\n",
       "      <td>17800</td>\n",
       "    </tr>\n",
       "    <tr>\n",
       "      <th>7496</th>\n",
       "      <td>2015-02-28 15:26:00+05:30</td>\n",
       "      <td>433.50</td>\n",
       "      <td>433.90</td>\n",
       "      <td>433.28</td>\n",
       "      <td>433.48</td>\n",
       "      <td>16810</td>\n",
       "    </tr>\n",
       "    <tr>\n",
       "      <th>7497</th>\n",
       "      <td>2015-02-28 15:27:00+05:30</td>\n",
       "      <td>433.45</td>\n",
       "      <td>433.88</td>\n",
       "      <td>433.40</td>\n",
       "      <td>433.85</td>\n",
       "      <td>16688</td>\n",
       "    </tr>\n",
       "    <tr>\n",
       "      <th>7498</th>\n",
       "      <td>2015-02-28 15:28:00+05:30</td>\n",
       "      <td>433.90</td>\n",
       "      <td>433.90</td>\n",
       "      <td>433.15</td>\n",
       "      <td>433.63</td>\n",
       "      <td>14664</td>\n",
       "    </tr>\n",
       "    <tr>\n",
       "      <th>7499</th>\n",
       "      <td>2015-02-28 15:29:00+05:30</td>\n",
       "      <td>433.00</td>\n",
       "      <td>433.50</td>\n",
       "      <td>433.00</td>\n",
       "      <td>433.48</td>\n",
       "      <td>17272</td>\n",
       "    </tr>\n",
       "  </tbody>\n",
       "</table>\n",
       "<p>7500 rows × 6 columns</p>\n",
       "</div>"
      ],
      "text/plain": [
       "                          date    open    high     low   close  volume\n",
       "0    2015-02-02 09:15:00+05:30  458.48  459.90  458.18  458.40  108278\n",
       "1    2015-02-02 09:16:00+05:30  458.40  458.68  457.50  457.50   46142\n",
       "2    2015-02-02 09:17:00+05:30  457.55  458.40  457.40  458.00   48890\n",
       "3    2015-02-02 09:18:00+05:30  458.08  459.25  458.08  458.75   56594\n",
       "4    2015-02-02 09:19:00+05:30  458.73  458.75  458.25  458.43   31682\n",
       "...                        ...     ...     ...     ...     ...     ...\n",
       "7495 2015-02-28 15:25:00+05:30  433.40  433.40  432.78  433.00   17800\n",
       "7496 2015-02-28 15:26:00+05:30  433.50  433.90  433.28  433.48   16810\n",
       "7497 2015-02-28 15:27:00+05:30  433.45  433.88  433.40  433.85   16688\n",
       "7498 2015-02-28 15:28:00+05:30  433.90  433.90  433.15  433.63   14664\n",
       "7499 2015-02-28 15:29:00+05:30  433.00  433.50  433.00  433.48   17272\n",
       "\n",
       "[7500 rows x 6 columns]"
      ]
     },
     "execution_count": 83,
     "metadata": {},
     "output_type": "execute_result"
    }
   ],
   "source": [
    "data"
   ]
  },
  {
   "cell_type": "code",
   "execution_count": 14,
   "metadata": {},
   "outputs": [],
   "source": [
    "instruments = pd.read_csv('https://api.kite.trade/instruments')"
   ]
  },
  {
   "cell_type": "code",
   "execution_count": 69,
   "metadata": {},
   "outputs": [
    {
     "data": {
      "text/html": [
       "<div>\n",
       "<style scoped>\n",
       "    .dataframe tbody tr th:only-of-type {\n",
       "        vertical-align: middle;\n",
       "    }\n",
       "\n",
       "    .dataframe tbody tr th {\n",
       "        vertical-align: top;\n",
       "    }\n",
       "\n",
       "    .dataframe thead th {\n",
       "        text-align: right;\n",
       "    }\n",
       "</style>\n",
       "<table border=\"1\" class=\"dataframe\">\n",
       "  <thead>\n",
       "    <tr style=\"text-align: right;\">\n",
       "      <th></th>\n",
       "      <th>instrument_token</th>\n",
       "      <th>exchange_token</th>\n",
       "      <th>tradingsymbol</th>\n",
       "      <th>name</th>\n",
       "      <th>last_price</th>\n",
       "      <th>expiry</th>\n",
       "      <th>strike</th>\n",
       "      <th>tick_size</th>\n",
       "      <th>lot_size</th>\n",
       "      <th>instrument_type</th>\n",
       "      <th>segment</th>\n",
       "      <th>exchange</th>\n",
       "    </tr>\n",
       "  </thead>\n",
       "  <tbody>\n",
       "    <tr>\n",
       "      <th>0</th>\n",
       "      <td>544844550</td>\n",
       "      <td>2128299</td>\n",
       "      <td>EURINR20AUG79.2500CE</td>\n",
       "      <td>EURINR</td>\n",
       "      <td>0</td>\n",
       "      <td>2020-08-27</td>\n",
       "      <td>79.25</td>\n",
       "      <td>0.0025</td>\n",
       "      <td>1</td>\n",
       "      <td>CE</td>\n",
       "      <td>BCD-OPT</td>\n",
       "      <td>BCD</td>\n",
       "    </tr>\n",
       "    <tr>\n",
       "      <th>1</th>\n",
       "      <td>544838918</td>\n",
       "      <td>2128277</td>\n",
       "      <td>EURINR20AUG79.2500PE</td>\n",
       "      <td>EURINR</td>\n",
       "      <td>0</td>\n",
       "      <td>2020-08-27</td>\n",
       "      <td>79.25</td>\n",
       "      <td>0.0025</td>\n",
       "      <td>1</td>\n",
       "      <td>PE</td>\n",
       "      <td>BCD-OPT</td>\n",
       "      <td>BCD</td>\n",
       "    </tr>\n",
       "    <tr>\n",
       "      <th>2</th>\n",
       "      <td>544788742</td>\n",
       "      <td>2128081</td>\n",
       "      <td>EURINR20AUG79.5000CE</td>\n",
       "      <td>EURINR</td>\n",
       "      <td>0</td>\n",
       "      <td>2020-08-27</td>\n",
       "      <td>79.50</td>\n",
       "      <td>0.0025</td>\n",
       "      <td>1</td>\n",
       "      <td>CE</td>\n",
       "      <td>BCD-OPT</td>\n",
       "      <td>BCD</td>\n",
       "    </tr>\n",
       "    <tr>\n",
       "      <th>3</th>\n",
       "      <td>544782342</td>\n",
       "      <td>2128056</td>\n",
       "      <td>EURINR20AUG79.5000PE</td>\n",
       "      <td>EURINR</td>\n",
       "      <td>0</td>\n",
       "      <td>2020-08-27</td>\n",
       "      <td>79.50</td>\n",
       "      <td>0.0025</td>\n",
       "      <td>1</td>\n",
       "      <td>PE</td>\n",
       "      <td>BCD-OPT</td>\n",
       "      <td>BCD</td>\n",
       "    </tr>\n",
       "    <tr>\n",
       "      <th>4</th>\n",
       "      <td>544739078</td>\n",
       "      <td>2127887</td>\n",
       "      <td>EURINR20AUG79.7500CE</td>\n",
       "      <td>EURINR</td>\n",
       "      <td>0</td>\n",
       "      <td>2020-08-27</td>\n",
       "      <td>79.75</td>\n",
       "      <td>0.0025</td>\n",
       "      <td>1</td>\n",
       "      <td>CE</td>\n",
       "      <td>BCD-OPT</td>\n",
       "      <td>BCD</td>\n",
       "    </tr>\n",
       "    <tr>\n",
       "      <th>...</th>\n",
       "      <td>...</td>\n",
       "      <td>...</td>\n",
       "      <td>...</td>\n",
       "      <td>...</td>\n",
       "      <td>...</td>\n",
       "      <td>...</td>\n",
       "      <td>...</td>\n",
       "      <td>...</td>\n",
       "      <td>...</td>\n",
       "      <td>...</td>\n",
       "      <td>...</td>\n",
       "      <td>...</td>\n",
       "    </tr>\n",
       "    <tr>\n",
       "      <th>67272</th>\n",
       "      <td>1945089</td>\n",
       "      <td>7598</td>\n",
       "      <td>ZODJRDMKJ-BE</td>\n",
       "      <td>ZODIAC JRD MKJ-</td>\n",
       "      <td>0</td>\n",
       "      <td>NaN</td>\n",
       "      <td>0.00</td>\n",
       "      <td>0.0500</td>\n",
       "      <td>1</td>\n",
       "      <td>EQ</td>\n",
       "      <td>NSE</td>\n",
       "      <td>NSE</td>\n",
       "    </tr>\n",
       "    <tr>\n",
       "      <th>67273</th>\n",
       "      <td>2916865</td>\n",
       "      <td>11394</td>\n",
       "      <td>ZOTA</td>\n",
       "      <td>ZOTA HEALTH CARE</td>\n",
       "      <td>0</td>\n",
       "      <td>NaN</td>\n",
       "      <td>0.00</td>\n",
       "      <td>0.0500</td>\n",
       "      <td>1</td>\n",
       "      <td>EQ</td>\n",
       "      <td>NSE</td>\n",
       "      <td>NSE</td>\n",
       "    </tr>\n",
       "    <tr>\n",
       "      <th>67274</th>\n",
       "      <td>7436801</td>\n",
       "      <td>29050</td>\n",
       "      <td>ZUARI</td>\n",
       "      <td>ZUARI AGRO CHEMICALS</td>\n",
       "      <td>0</td>\n",
       "      <td>NaN</td>\n",
       "      <td>0.00</td>\n",
       "      <td>0.0500</td>\n",
       "      <td>1</td>\n",
       "      <td>EQ</td>\n",
       "      <td>NSE</td>\n",
       "      <td>NSE</td>\n",
       "    </tr>\n",
       "    <tr>\n",
       "      <th>67275</th>\n",
       "      <td>979713</td>\n",
       "      <td>3827</td>\n",
       "      <td>ZUARIGLOB</td>\n",
       "      <td>ZUARI GLOBAL</td>\n",
       "      <td>0</td>\n",
       "      <td>NaN</td>\n",
       "      <td>0.00</td>\n",
       "      <td>0.0500</td>\n",
       "      <td>1</td>\n",
       "      <td>EQ</td>\n",
       "      <td>NSE</td>\n",
       "      <td>NSE</td>\n",
       "    </tr>\n",
       "    <tr>\n",
       "      <th>67276</th>\n",
       "      <td>4514561</td>\n",
       "      <td>17635</td>\n",
       "      <td>ZYDUSWELL</td>\n",
       "      <td>ZYDUS WELLNESS</td>\n",
       "      <td>0</td>\n",
       "      <td>NaN</td>\n",
       "      <td>0.00</td>\n",
       "      <td>0.0500</td>\n",
       "      <td>1</td>\n",
       "      <td>EQ</td>\n",
       "      <td>NSE</td>\n",
       "      <td>NSE</td>\n",
       "    </tr>\n",
       "  </tbody>\n",
       "</table>\n",
       "<p>67277 rows × 12 columns</p>\n",
       "</div>"
      ],
      "text/plain": [
       "       instrument_token  exchange_token         tradingsymbol  \\\n",
       "0             544844550         2128299  EURINR20AUG79.2500CE   \n",
       "1             544838918         2128277  EURINR20AUG79.2500PE   \n",
       "2             544788742         2128081  EURINR20AUG79.5000CE   \n",
       "3             544782342         2128056  EURINR20AUG79.5000PE   \n",
       "4             544739078         2127887  EURINR20AUG79.7500CE   \n",
       "...                 ...             ...                   ...   \n",
       "67272           1945089            7598          ZODJRDMKJ-BE   \n",
       "67273           2916865           11394                  ZOTA   \n",
       "67274           7436801           29050                 ZUARI   \n",
       "67275            979713            3827             ZUARIGLOB   \n",
       "67276           4514561           17635             ZYDUSWELL   \n",
       "\n",
       "                       name  last_price      expiry  strike  tick_size  \\\n",
       "0                    EURINR           0  2020-08-27   79.25     0.0025   \n",
       "1                    EURINR           0  2020-08-27   79.25     0.0025   \n",
       "2                    EURINR           0  2020-08-27   79.50     0.0025   \n",
       "3                    EURINR           0  2020-08-27   79.50     0.0025   \n",
       "4                    EURINR           0  2020-08-27   79.75     0.0025   \n",
       "...                     ...         ...         ...     ...        ...   \n",
       "67272       ZODIAC JRD MKJ-           0         NaN    0.00     0.0500   \n",
       "67273      ZOTA HEALTH CARE           0         NaN    0.00     0.0500   \n",
       "67274  ZUARI AGRO CHEMICALS           0         NaN    0.00     0.0500   \n",
       "67275          ZUARI GLOBAL           0         NaN    0.00     0.0500   \n",
       "67276        ZYDUS WELLNESS           0         NaN    0.00     0.0500   \n",
       "\n",
       "       lot_size instrument_type  segment exchange  \n",
       "0             1              CE  BCD-OPT      BCD  \n",
       "1             1              PE  BCD-OPT      BCD  \n",
       "2             1              CE  BCD-OPT      BCD  \n",
       "3             1              PE  BCD-OPT      BCD  \n",
       "4             1              CE  BCD-OPT      BCD  \n",
       "...         ...             ...      ...      ...  \n",
       "67272         1              EQ      NSE      NSE  \n",
       "67273         1              EQ      NSE      NSE  \n",
       "67274         1              EQ      NSE      NSE  \n",
       "67275         1              EQ      NSE      NSE  \n",
       "67276         1              EQ      NSE      NSE  \n",
       "\n",
       "[67277 rows x 12 columns]"
      ]
     },
     "execution_count": 69,
     "metadata": {},
     "output_type": "execute_result"
    }
   ],
   "source": [
    "instruments"
   ]
  },
  {
   "cell_type": "code",
   "execution_count": 16,
   "metadata": {},
   "outputs": [
    {
     "data": {
      "text/html": [
       "<div>\n",
       "<style scoped>\n",
       "    .dataframe tbody tr th:only-of-type {\n",
       "        vertical-align: middle;\n",
       "    }\n",
       "\n",
       "    .dataframe tbody tr th {\n",
       "        vertical-align: top;\n",
       "    }\n",
       "\n",
       "    .dataframe thead th {\n",
       "        text-align: right;\n",
       "    }\n",
       "</style>\n",
       "<table border=\"1\" class=\"dataframe\">\n",
       "  <thead>\n",
       "    <tr style=\"text-align: right;\">\n",
       "      <th></th>\n",
       "      <th>instrument_token</th>\n",
       "      <th>exchange_token</th>\n",
       "      <th>tradingsymbol</th>\n",
       "      <th>name</th>\n",
       "      <th>last_price</th>\n",
       "      <th>expiry</th>\n",
       "      <th>strike</th>\n",
       "      <th>tick_size</th>\n",
       "      <th>lot_size</th>\n",
       "      <th>instrument_type</th>\n",
       "      <th>segment</th>\n",
       "      <th>exchange</th>\n",
       "    </tr>\n",
       "  </thead>\n",
       "  <tbody>\n",
       "    <tr>\n",
       "      <th>14464</th>\n",
       "      <td>128083204</td>\n",
       "      <td>500325</td>\n",
       "      <td>RELIANCE</td>\n",
       "      <td>RELIANCE INDUSTRIES.</td>\n",
       "      <td>0</td>\n",
       "      <td>NaN</td>\n",
       "      <td>0.0</td>\n",
       "      <td>0.05</td>\n",
       "      <td>1</td>\n",
       "      <td>EQ</td>\n",
       "      <td>BSE</td>\n",
       "      <td>BSE</td>\n",
       "    </tr>\n",
       "    <tr>\n",
       "      <th>66618</th>\n",
       "      <td>738561</td>\n",
       "      <td>2885</td>\n",
       "      <td>RELIANCE</td>\n",
       "      <td>RELIANCE INDUSTRIES</td>\n",
       "      <td>0</td>\n",
       "      <td>NaN</td>\n",
       "      <td>0.0</td>\n",
       "      <td>0.05</td>\n",
       "      <td>1</td>\n",
       "      <td>EQ</td>\n",
       "      <td>NSE</td>\n",
       "      <td>NSE</td>\n",
       "    </tr>\n",
       "  </tbody>\n",
       "</table>\n",
       "</div>"
      ],
      "text/plain": [
       "       instrument_token  exchange_token tradingsymbol                  name  \\\n",
       "14464         128083204          500325      RELIANCE  RELIANCE INDUSTRIES.   \n",
       "66618            738561            2885      RELIANCE   RELIANCE INDUSTRIES   \n",
       "\n",
       "       last_price expiry  strike  tick_size  lot_size instrument_type segment  \\\n",
       "14464           0    NaN     0.0       0.05         1              EQ     BSE   \n",
       "66618           0    NaN     0.0       0.05         1              EQ     NSE   \n",
       "\n",
       "      exchange  \n",
       "14464      BSE  \n",
       "66618      NSE  "
      ]
     },
     "execution_count": 16,
     "metadata": {},
     "output_type": "execute_result"
    }
   ],
   "source": [
    "instruments[instruments['tradingsymbol']=='RELIANCE']"
   ]
  },
  {
   "cell_type": "code",
   "execution_count": null,
   "metadata": {},
   "outputs": [],
   "source": []
  }
 ],
 "metadata": {
  "kernelspec": {
   "display_name": "Python 3",
   "language": "python",
   "name": "python3"
  },
  "language_info": {
   "codemirror_mode": {
    "name": "ipython",
    "version": 3
   },
   "file_extension": ".py",
   "mimetype": "text/x-python",
   "name": "python",
   "nbconvert_exporter": "python",
   "pygments_lexer": "ipython3",
   "version": "3.7.6"
  }
 },
 "nbformat": 4,
 "nbformat_minor": 4
}
